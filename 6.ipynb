{
  "nbformat": 4,
  "nbformat_minor": 0,
  "metadata": {
    "colab": {
      "name": "2020451134_hw6.ipynb",
      "provenance": []
    },
    "kernelspec": {
      "name": "python3",
      "display_name": "Python 3"
    }
  },
  "cells": [
    {
      "cell_type": "code",
      "metadata": {
        "id": "NA-w1sRj-O9U",
        "colab_type": "code",
        "colab": {}
      },
      "source": [
        "from keras.datasets import imdb\n",
        "\n",
        "(train_data, train_labels), (test_data, test_labels) = imdb.load_data(num_words=10000)\n",
        "train_data[0] # [1,14,22, ... , 19,178,32]\n",
        "train_labels[0] # 1\n",
        "word_index = imdb.get_word_index()\n",
        "reverse_word_index = dict(\n",
        "    [(value,key) for (key, value) in word_index.items()]\n",
        ")\n",
        "decode_review = ' '.join(\n",
        "    [reverse_word_index.get(i-3, '?') for i in train_data[0]]\n",
        ")"
      ],
      "execution_count": 0,
      "outputs": []
    },
    {
      "cell_type": "code",
      "metadata": {
        "id": "2Jv1WFKG-hfK",
        "colab_type": "code",
        "colab": {}
      },
      "source": [
        "import numpy as np\n",
        "\n",
        "def vectorize_sequences(sequences, dimension=10000):\n",
        "    results = np.zeros((len(sequences), dimension))\n",
        "    for i, sequence in enumerate(sequences):\n",
        "        results[i, sequence] = 1.\n",
        "    return results\n",
        "  \n",
        "x_train = vectorize_sequences(train_data)\n",
        "x_test = vectorize_sequences(test_data)\n",
        "y_train = np.asarray(train_labels).astype('float32')\n",
        "y_test = np.asarray(test_labels).astype('float32')"
      ],
      "execution_count": 0,
      "outputs": []
    },
    {
      "cell_type": "code",
      "metadata": {
        "id": "CcbEZxSq-0EZ",
        "colab_type": "code",
        "colab": {
          "base_uri": "https://localhost:8080/",
          "height": 775
        },
        "outputId": "dcd18c28-2904-4bfb-9fe8-a1d497aea1d9"
      },
      "source": [
        "from keras import models\n",
        "from keras import layers\n",
        "\n",
        "model = models.Sequential()\n",
        "model.add(layers.Dense(16,activation='relu', input_shape=(10000,)))\n",
        "model.add(layers.Dense(16, activation='relu'))\n",
        "model.add(layers.Dense(1, activation='sigmoid'))\n",
        "model.compile(optimizer='rmsprop',\n",
        "             loss='binary_crossentropy',\n",
        "             metrics=['accuracy'])\n",
        "\n",
        "x_val = x_train[:10000]\n",
        "partial_x_train = x_train[10000:]\n",
        "y_val = y_train[:10000]\n",
        "partial_y_train = y_train[10000:]\n",
        "history = model.fit(partial_x_train,\n",
        "                    partial_y_train,\n",
        "                    epochs = 20,\n",
        "                    batch_size = 512,\n",
        "                    validation_data=(x_val, y_val))\n",
        "history_dict = history.history"
      ],
      "execution_count": 16,
      "outputs": [
        {
          "output_type": "stream",
          "text": [
            "Train on 15000 samples, validate on 10000 samples\n",
            "Epoch 1/20\n",
            "15000/15000 [==============================] - 2s 125us/step - loss: 0.5220 - accuracy: 0.7831 - val_loss: 0.3936 - val_accuracy: 0.8637\n",
            "Epoch 2/20\n",
            "15000/15000 [==============================] - 1s 99us/step - loss: 0.3089 - accuracy: 0.9071 - val_loss: 0.3136 - val_accuracy: 0.8784\n",
            "Epoch 3/20\n",
            "15000/15000 [==============================] - 1s 100us/step - loss: 0.2223 - accuracy: 0.9276 - val_loss: 0.2906 - val_accuracy: 0.8849\n",
            "Epoch 4/20\n",
            "15000/15000 [==============================] - 1s 100us/step - loss: 0.1769 - accuracy: 0.9421 - val_loss: 0.2756 - val_accuracy: 0.8896\n",
            "Epoch 5/20\n",
            "15000/15000 [==============================] - 1s 99us/step - loss: 0.1403 - accuracy: 0.9553 - val_loss: 0.2886 - val_accuracy: 0.8863\n",
            "Epoch 6/20\n",
            "15000/15000 [==============================] - 1s 99us/step - loss: 0.1144 - accuracy: 0.9651 - val_loss: 0.3076 - val_accuracy: 0.8789\n",
            "Epoch 7/20\n",
            "15000/15000 [==============================] - 1s 99us/step - loss: 0.0933 - accuracy: 0.9727 - val_loss: 0.3373 - val_accuracy: 0.8813\n",
            "Epoch 8/20\n",
            "15000/15000 [==============================] - 1s 99us/step - loss: 0.0740 - accuracy: 0.9807 - val_loss: 0.3885 - val_accuracy: 0.8747\n",
            "Epoch 9/20\n",
            "15000/15000 [==============================] - 1s 100us/step - loss: 0.0638 - accuracy: 0.9827 - val_loss: 0.3640 - val_accuracy: 0.8818\n",
            "Epoch 10/20\n",
            "15000/15000 [==============================] - 2s 100us/step - loss: 0.0470 - accuracy: 0.9882 - val_loss: 0.4033 - val_accuracy: 0.8796\n",
            "Epoch 11/20\n",
            "15000/15000 [==============================] - 1s 98us/step - loss: 0.0377 - accuracy: 0.9924 - val_loss: 0.4200 - val_accuracy: 0.8773\n",
            "Epoch 12/20\n",
            "15000/15000 [==============================] - 2s 101us/step - loss: 0.0330 - accuracy: 0.9925 - val_loss: 0.4560 - val_accuracy: 0.8785\n",
            "Epoch 13/20\n",
            "15000/15000 [==============================] - 1s 99us/step - loss: 0.0239 - accuracy: 0.9957 - val_loss: 0.5023 - val_accuracy: 0.8764\n",
            "Epoch 14/20\n",
            "15000/15000 [==============================] - 1s 100us/step - loss: 0.0184 - accuracy: 0.9970 - val_loss: 0.5138 - val_accuracy: 0.8748\n",
            "Epoch 15/20\n",
            "15000/15000 [==============================] - 1s 99us/step - loss: 0.0151 - accuracy: 0.9971 - val_loss: 0.5502 - val_accuracy: 0.8680\n",
            "Epoch 16/20\n",
            "15000/15000 [==============================] - 1s 100us/step - loss: 0.0082 - accuracy: 0.9995 - val_loss: 0.5947 - val_accuracy: 0.8634\n",
            "Epoch 17/20\n",
            "15000/15000 [==============================] - 2s 100us/step - loss: 0.0113 - accuracy: 0.9980 - val_loss: 0.6166 - val_accuracy: 0.8704\n",
            "Epoch 18/20\n",
            "15000/15000 [==============================] - 2s 100us/step - loss: 0.0043 - accuracy: 0.9998 - val_loss: 0.6595 - val_accuracy: 0.8640\n",
            "Epoch 19/20\n",
            "15000/15000 [==============================] - 1s 98us/step - loss: 0.0079 - accuracy: 0.9987 - val_loss: 0.6887 - val_accuracy: 0.8698\n",
            "Epoch 20/20\n",
            "15000/15000 [==============================] - 1s 99us/step - loss: 0.0024 - accuracy: 0.9999 - val_loss: 0.7138 - val_accuracy: 0.8685\n"
          ],
          "name": "stdout"
        }
      ]
    },
    {
      "cell_type": "code",
      "metadata": {
        "id": "wBICAhVz--pe",
        "colab_type": "code",
        "colab": {
          "base_uri": "https://localhost:8080/",
          "height": 295
        },
        "outputId": "9cc75cfc-8191-4f5b-d837-ef94dc5cc9f5"
      },
      "source": [
        "import matplotlib.pyplot as plt\n",
        "\n",
        "history_dict = history.history\n",
        "loss = history_dict['loss']\n",
        "val_loss = history_dict['val_loss']\n",
        "\n",
        "epochs = range(1,len(loss)+1)\n",
        "\n",
        "plt.plot(epochs, loss, 'bo', label='Training loss')\n",
        "plt.plot(epochs, val_loss, 'b', label='Validation loss')\n",
        "plt.title('Training and validation loss')\n",
        "plt.xlabel('Epochs')\n",
        "plt.ylabel('Loss')\n",
        "plt.legend()\n",
        "plt.show()"
      ],
      "execution_count": 17,
      "outputs": [
        {
          "output_type": "display_data",
          "data": {
            "image/png": "[encoded data removed]",
            "text/plain": [
              "<Figure size 432x288 with 1 Axes>"
            ]
          },
          "metadata": {
            "tags": [],
            "needs_background": "light"
          }
        }
      ]
    },
    {
      "cell_type": "code",
      "metadata": {
        "id": "QfsijvhL_iHG",
        "colab_type": "code",
        "colab": {
          "base_uri": "https://localhost:8080/",
          "height": 253
        },
        "outputId": "2525432f-0a3e-4e8d-b8aa-825d89ea0597"
      },
      "source": [
        "history = model.fit(partial_x_train,\n",
        "                    partial_y_train,\n",
        "                    epochs = 5,\n",
        "                    batch_size = 512,\n",
        "                    validation_data=(x_val, y_val))\n",
        "\n",
        "results = model.evaluate(x_test, y_test)"
      ],
      "execution_count": 19,
      "outputs": [
        {
          "output_type": "stream",
          "text": [
            "Train on 15000 samples, validate on 10000 samples\n",
            "Epoch 1/5\n",
            "15000/15000 [==============================] - 2s 101us/step - loss: 0.0048 - accuracy: 0.9985 - val_loss: 0.9071 - val_accuracy: 0.8671\n",
            "Epoch 2/5\n",
            "15000/15000 [==============================] - 1s 99us/step - loss: 4.7746e-04 - accuracy: 1.0000 - val_loss: 0.9020 - val_accuracy: 0.8669\n",
            "Epoch 3/5\n",
            "15000/15000 [==============================] - 1s 100us/step - loss: 3.4941e-04 - accuracy: 1.0000 - val_loss: 0.9338 - val_accuracy: 0.8672\n",
            "Epoch 4/5\n",
            "15000/15000 [==============================] - 1s 99us/step - loss: 0.0050 - accuracy: 0.9988 - val_loss: 0.9956 - val_accuracy: 0.8596\n",
            "Epoch 5/5\n",
            "15000/15000 [==============================] - 1s 100us/step - loss: 2.7081e-04 - accuracy: 1.0000 - val_loss: 1.0023 - val_accuracy: 0.8653\n",
            "25000/25000 [==============================] - 2s 62us/step\n"
          ],
          "name": "stdout"
        }
      ]
    }
  ]
}