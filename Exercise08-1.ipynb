{
  "nbformat": 4,
  "nbformat_minor": 0,
  "metadata": {
    "colab": {
      "name": "Exercise_08_01_2019451149.ipynb",
      "provenance": [],
      "collapsed_sections": []
    },
    "kernelspec": {
      "name": "python3",
      "display_name": "Python 3"
    },
    "accelerator": "GPU"
  },
  "cells": [
    {
      "cell_type": "markdown",
      "metadata": {
        "id": "wYLP6pHH3QsW",
        "colab_type": "text"
      },
      "source": [
        "![image.png](data:image/png;base64,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)"
      ]
    },
    {
      "cell_type": "code",
      "metadata": {
        "id": "tqHZNBSUvGSO",
        "colab_type": "code",
        "colab": {}
      },
      "source": [
        "%tensorflow_version 2.x\n",
        "\n",
        "from tensorflow.keras.datasets import imdb\n",
        "from tensorflow.keras.preprocessing import sequence\n",
        "from tensorflow.keras import Sequential\n",
        "from tensorflow.keras.layers import Embedding, RNN, LSTM, Dense, Dropout, SimpleRNN, GRU, Bidirectional, SimpleRNNCell"
      ],
      "execution_count": 0,
      "outputs": []
    },
    {
      "cell_type": "code",
      "metadata": {
        "id": "iHQtjZ0UvYYm",
        "colab_type": "code",
        "outputId": "a84c4ef7-8569-49f6-e8ec-a9f2f42660ab",
        "colab": {
          "base_uri": "https://localhost:8080/",
          "height": 34
        }
      },
      "source": [
        "vocabulary_size = 5000\n",
        "(X_train, y_train), (X_test, y_test) = imdb.load_data(num_words = vocabulary_size)\n",
        "print((len(X_train), len(X_test)))"
      ],
      "execution_count": 2,
      "outputs": [
        {
          "output_type": "stream",
          "text": [
            "(25000, 25000)\n"
          ],
          "name": "stdout"
        }
      ]
    },
    {
      "cell_type": "code",
      "metadata": {
        "id": "u0jhEeJ7v04b",
        "colab_type": "code",
        "colab": {}
      },
      "source": [
        "max_words = 500\n",
        "X_train = sequence.pad_sequences(X_train, maxlen=max_words)\n",
        "X_test = sequence.pad_sequences(X_test, maxlen=max_words)"
      ],
      "execution_count": 0,
      "outputs": []
    },
    {
      "cell_type": "code",
      "metadata": {
        "id": "NXmyFYdGxsDF",
        "colab_type": "code",
        "colab": {}
      },
      "source": [
        "batch_size = 256\n",
        "num_epochs = 8\n",
        "embedding_size=32"
      ],
      "execution_count": 0,
      "outputs": []
    },
    {
      "cell_type": "code",
      "metadata": {
        "id": "4U1mk7QLwjzL",
        "colab_type": "code",
        "colab": {}
      },
      "source": [
        "X_valid, y_valid = X_train[:batch_size], y_train[:batch_size]\n",
        "X_train2, y_train2 = X_train[batch_size:], y_train[batch_size:]"
      ],
      "execution_count": 0,
      "outputs": []
    },
    {
      "cell_type": "markdown",
      "metadata": {
        "id": "I5Clg9O6zXMt",
        "colab_type": "text"
      },
      "source": [
        "1. SimpleRNN"
      ]
    },
    {
      "cell_type": "code",
      "metadata": {
        "id": "h_a6YqIAzWbj",
        "colab_type": "code",
        "outputId": "3a80c6c0-b152-425e-d538-ee8ec0c3a70d",
        "colab": {
          "base_uri": "https://localhost:8080/",
          "height": 283
        }
      },
      "source": [
        "model=Sequential()\n",
        "model.add(Embedding(vocabulary_size, embedding_size, input_length=max_words))\n",
        "model.add(SimpleRNN(100))\n",
        "model.add(Dense(1, activation='sigmoid'))\n",
        "\n",
        "model.compile(loss='binary_crossentropy', \n",
        "             optimizer='adam', \n",
        "             metrics=['accuracy'])\n",
        "\n",
        "print(model.summary())"
      ],
      "execution_count": 9,
      "outputs": [
        {
          "output_type": "stream",
          "text": [
            "Model: \"sequential_1\"\n",
            "_________________________________________________________________\n",
            "Layer (type)                 Output Shape              Param #   \n",
            "=================================================================\n",
            "embedding_1 (Embedding)      (None, 500, 32)           160000    \n",
            "_________________________________________________________________\n",
            "simple_rnn (SimpleRNN)       (None, 100)               13300     \n",
            "_________________________________________________________________\n",
            "dense_1 (Dense)              (None, 1)                 101       \n",
            "=================================================================\n",
            "Total params: 173,401\n",
            "Trainable params: 173,401\n",
            "Non-trainable params: 0\n",
            "_________________________________________________________________\n",
            "None\n"
          ],
          "name": "stdout"
        }
      ]
    },
    {
      "cell_type": "code",
      "metadata": {
        "id": "IVsFK-4gzd5b",
        "colab_type": "code",
        "outputId": "b10a0cd2-b495-4056-e848-90295fcbe978",
        "colab": {
          "base_uri": "https://localhost:8080/",
          "height": 354
        }
      },
      "source": [
        "%%time\n",
        "model.fit(X_train2, y_train2, validation_data=(X_valid, y_valid), batch_size=batch_size, epochs=num_epochs)"
      ],
      "execution_count": 10,
      "outputs": [
        {
          "output_type": "stream",
          "text": [
            "Epoch 1/8\n",
            "97/97 [==============================] - 29s 304ms/step - loss: 0.6805 - accuracy: 0.5661 - val_loss: 0.7422 - val_accuracy: 0.5547\n",
            "Epoch 2/8\n",
            "97/97 [==============================] - 29s 300ms/step - loss: 0.5158 - accuracy: 0.7419 - val_loss: 0.3669 - val_accuracy: 0.8477\n",
            "Epoch 3/8\n",
            "97/97 [==============================] - 30s 310ms/step - loss: 0.5723 - accuracy: 0.7292 - val_loss: 0.6166 - val_accuracy: 0.6523\n",
            "Epoch 4/8\n",
            "97/97 [==============================] - 30s 305ms/step - loss: 0.5424 - accuracy: 0.7439 - val_loss: 0.6699 - val_accuracy: 0.5703\n",
            "Epoch 5/8\n",
            "97/97 [==============================] - 29s 302ms/step - loss: 0.4781 - accuracy: 0.7740 - val_loss: 0.5302 - val_accuracy: 0.7617\n",
            "Epoch 6/8\n",
            "97/97 [==============================] - 30s 305ms/step - loss: 0.2829 - accuracy: 0.8853 - val_loss: 0.4447 - val_accuracy: 0.8281\n",
            "Epoch 7/8\n",
            "97/97 [==============================] - 30s 305ms/step - loss: 0.2060 - accuracy: 0.9223 - val_loss: 0.4399 - val_accuracy: 0.8438\n",
            "Epoch 8/8\n",
            "97/97 [==============================] - 30s 309ms/step - loss: 0.1264 - accuracy: 0.9573 - val_loss: 0.5329 - val_accuracy: 0.7930\n",
            "CPU times: user 5min 52s, sys: 37 s, total: 6min 29s\n",
            "Wall time: 3min 59s\n"
          ],
          "name": "stdout"
        },
        {
          "output_type": "execute_result",
          "data": {
            "text/plain": [
              "<tensorflow.python.keras.callbacks.History at 0x7f9fe41d62b0>"
            ]
          },
          "metadata": {
            "tags": []
          },
          "execution_count": 10
        }
      ]
    },
    {
      "cell_type": "code",
      "metadata": {
        "id": "g4MG95O5zhPr",
        "colab_type": "code",
        "outputId": "731c7fce-5bb7-4813-8260-c91ca943c149",
        "colab": {
          "base_uri": "https://localhost:8080/",
          "height": 34
        }
      },
      "source": [
        "scores = model.evaluate(X_test, y_test, verbose=0)\n",
        "print('Test accuracy:', scores[1])"
      ],
      "execution_count": 11,
      "outputs": [
        {
          "output_type": "stream",
          "text": [
            "Test accuracy: 0.7794399857521057\n"
          ],
          "name": "stdout"
        }
      ]
    },
    {
      "cell_type": "markdown",
      "metadata": {
        "id": "DU443VBrJbty",
        "colab_type": "text"
      },
      "source": [
        "2. RNN"
      ]
    },
    {
      "cell_type": "code",
      "metadata": {
        "id": "nPxQynvEJ2AN",
        "colab_type": "code",
        "colab": {
          "base_uri": "https://localhost:8080/",
          "height": 283
        },
        "outputId": "3d7a9e90-9324-4d32-e2a1-5b6b5dc88d53"
      },
      "source": [
        "model=Sequential()\n",
        "model.add(Embedding(vocabulary_size, embedding_size, input_length=max_words))\n",
        "model.add(RNN(SimpleRNNCell(100)))\n",
        "model.add(Dense(1, activation='sigmoid'))\n",
        "\n",
        "model.compile(loss='binary_crossentropy', \n",
        "             optimizer='adam', \n",
        "             metrics=['accuracy'])\n",
        "\n",
        "print(model.summary())"
      ],
      "execution_count": 12,
      "outputs": [
        {
          "output_type": "stream",
          "text": [
            "Model: \"sequential_2\"\n",
            "_________________________________________________________________\n",
            "Layer (type)                 Output Shape              Param #   \n",
            "=================================================================\n",
            "embedding_2 (Embedding)      (None, 500, 32)           160000    \n",
            "_________________________________________________________________\n",
            "rnn (RNN)                    (None, 100)               13300     \n",
            "_________________________________________________________________\n",
            "dense_2 (Dense)              (None, 1)                 101       \n",
            "=================================================================\n",
            "Total params: 173,401\n",
            "Trainable params: 173,401\n",
            "Non-trainable params: 0\n",
            "_________________________________________________________________\n",
            "None\n"
          ],
          "name": "stdout"
        }
      ]
    },
    {
      "cell_type": "code",
      "metadata": {
        "id": "nvrumv-kKFYk",
        "colab_type": "code",
        "colab": {
          "base_uri": "https://localhost:8080/",
          "height": 354
        },
        "outputId": "63f707f9-d856-4f5c-b760-921c0a75120d"
      },
      "source": [
        "%%time\n",
        "model.fit(X_train2, y_train2, validation_data=(X_valid, y_valid), batch_size=batch_size, epochs=num_epochs)"
      ],
      "execution_count": 13,
      "outputs": [
        {
          "output_type": "stream",
          "text": [
            "Epoch 1/8\n",
            "97/97 [==============================] - 29s 303ms/step - loss: 0.6749 - accuracy: 0.5728 - val_loss: 0.6184 - val_accuracy: 0.6719\n",
            "Epoch 2/8\n",
            "97/97 [==============================] - 29s 304ms/step - loss: 0.5608 - accuracy: 0.7241 - val_loss: 0.4774 - val_accuracy: 0.7617\n",
            "Epoch 3/8\n",
            "97/97 [==============================] - 29s 303ms/step - loss: 0.4055 - accuracy: 0.8224 - val_loss: 0.3464 - val_accuracy: 0.8672\n",
            "Epoch 4/8\n",
            "97/97 [==============================] - 29s 301ms/step - loss: 0.3769 - accuracy: 0.8422 - val_loss: 0.3413 - val_accuracy: 0.8828\n",
            "Epoch 5/8\n",
            "97/97 [==============================] - 29s 303ms/step - loss: 0.3424 - accuracy: 0.8594 - val_loss: 0.3534 - val_accuracy: 0.8750\n",
            "Epoch 6/8\n",
            "97/97 [==============================] - 30s 305ms/step - loss: 0.3826 - accuracy: 0.8398 - val_loss: 0.3875 - val_accuracy: 0.8516\n",
            "Epoch 7/8\n",
            "97/97 [==============================] - 29s 303ms/step - loss: 0.3488 - accuracy: 0.8588 - val_loss: 0.4121 - val_accuracy: 0.8320\n",
            "Epoch 8/8\n",
            "97/97 [==============================] - 30s 306ms/step - loss: 0.3301 - accuracy: 0.8706 - val_loss: 0.3790 - val_accuracy: 0.8516\n",
            "CPU times: user 5min 52s, sys: 36.8 s, total: 6min 29s\n",
            "Wall time: 3min 58s\n"
          ],
          "name": "stdout"
        },
        {
          "output_type": "execute_result",
          "data": {
            "text/plain": [
              "<tensorflow.python.keras.callbacks.History at 0x7f9fe3607160>"
            ]
          },
          "metadata": {
            "tags": []
          },
          "execution_count": 13
        }
      ]
    },
    {
      "cell_type": "code",
      "metadata": {
        "id": "6KL1uI7tKF38",
        "colab_type": "code",
        "colab": {
          "base_uri": "https://localhost:8080/",
          "height": 34
        },
        "outputId": "2e0b2e62-91c8-4081-8d51-7f3aeca3309b"
      },
      "source": [
        "scores = model.evaluate(X_test, y_test, verbose=0)\n",
        "print('Test accuracy:', scores[1])"
      ],
      "execution_count": 14,
      "outputs": [
        {
          "output_type": "stream",
          "text": [
            "Test accuracy: 0.8184800148010254\n"
          ],
          "name": "stdout"
        }
      ]
    },
    {
      "cell_type": "markdown",
      "metadata": {
        "id": "qLufYsaawp9l",
        "colab_type": "text"
      },
      "source": [
        "3. LSTM"
      ]
    },
    {
      "cell_type": "code",
      "metadata": {
        "id": "m6s2QWG8v3aE",
        "colab_type": "code",
        "outputId": "4eea9015-a2bb-4eaa-fb63-e4894ddff049",
        "colab": {
          "base_uri": "https://localhost:8080/",
          "height": 283
        }
      },
      "source": [
        "model=Sequential()\n",
        "model.add(Embedding(vocabulary_size, embedding_size, input_length=max_words))\n",
        "model.add(LSTM(100))\n",
        "model.add(Dense(1, activation='sigmoid'))\n",
        "\n",
        "model.compile(loss='binary_crossentropy', \n",
        "             optimizer='adam', \n",
        "             metrics=['accuracy'])\n",
        "\n",
        "print(model.summary())"
      ],
      "execution_count": 6,
      "outputs": [
        {
          "output_type": "stream",
          "text": [
            "Model: \"sequential\"\n",
            "_________________________________________________________________\n",
            "Layer (type)                 Output Shape              Param #   \n",
            "=================================================================\n",
            "embedding (Embedding)        (None, 500, 32)           160000    \n",
            "_________________________________________________________________\n",
            "lstm (LSTM)                  (None, 100)               53200     \n",
            "_________________________________________________________________\n",
            "dense (Dense)                (None, 1)                 101       \n",
            "=================================================================\n",
            "Total params: 213,301\n",
            "Trainable params: 213,301\n",
            "Non-trainable params: 0\n",
            "_________________________________________________________________\n",
            "None\n"
          ],
          "name": "stdout"
        }
      ]
    },
    {
      "cell_type": "code",
      "metadata": {
        "id": "1dc0pkJUw0J9",
        "colab_type": "code",
        "outputId": "3306d94b-efcb-4ddd-8f1a-6ac2593dd5bd",
        "colab": {
          "base_uri": "https://localhost:8080/",
          "height": 354
        }
      },
      "source": [
        "%%time\n",
        "model.fit(X_train2, y_train2, validation_data=(X_valid, y_valid), batch_size=batch_size, epochs=num_epochs)"
      ],
      "execution_count": 7,
      "outputs": [
        {
          "output_type": "stream",
          "text": [
            "Epoch 1/8\n",
            "97/97 [==============================] - 5s 53ms/step - loss: 0.6604 - accuracy: 0.6207 - val_loss: 0.5823 - val_accuracy: 0.7539\n",
            "Epoch 2/8\n",
            "97/97 [==============================] - 5s 50ms/step - loss: 0.4066 - accuracy: 0.8280 - val_loss: 0.3116 - val_accuracy: 0.8828\n",
            "Epoch 3/8\n",
            "97/97 [==============================] - 5s 50ms/step - loss: 0.3040 - accuracy: 0.8768 - val_loss: 0.3061 - val_accuracy: 0.8828\n",
            "Epoch 4/8\n",
            "97/97 [==============================] - 5s 50ms/step - loss: 0.2553 - accuracy: 0.9016 - val_loss: 0.2720 - val_accuracy: 0.9062\n",
            "Epoch 5/8\n",
            "97/97 [==============================] - 5s 49ms/step - loss: 0.2171 - accuracy: 0.9184 - val_loss: 0.2385 - val_accuracy: 0.9102\n",
            "Epoch 6/8\n",
            "97/97 [==============================] - 5s 49ms/step - loss: 0.1971 - accuracy: 0.9281 - val_loss: 0.2543 - val_accuracy: 0.9023\n",
            "Epoch 7/8\n",
            "97/97 [==============================] - 5s 49ms/step - loss: 0.1841 - accuracy: 0.9317 - val_loss: 0.2616 - val_accuracy: 0.8984\n",
            "Epoch 8/8\n",
            "97/97 [==============================] - 5s 49ms/step - loss: 0.1698 - accuracy: 0.9380 - val_loss: 0.2502 - val_accuracy: 0.8945\n",
            "CPU times: user 27.9 s, sys: 2.2 s, total: 30.1 s\n",
            "Wall time: 41.8 s\n"
          ],
          "name": "stdout"
        },
        {
          "output_type": "execute_result",
          "data": {
            "text/plain": [
              "<tensorflow.python.keras.callbacks.History at 0x7f9fe33b76a0>"
            ]
          },
          "metadata": {
            "tags": []
          },
          "execution_count": 7
        }
      ]
    },
    {
      "cell_type": "code",
      "metadata": {
        "id": "cxtw6ZfzxNAq",
        "colab_type": "code",
        "outputId": "8fb93510-0994-41b8-8fa0-ae0b9d021fb7",
        "colab": {
          "base_uri": "https://localhost:8080/",
          "height": 34
        }
      },
      "source": [
        "scores = model.evaluate(X_test, y_test, verbose=0)\n",
        "print('Test accuracy:', scores[1])"
      ],
      "execution_count": 8,
      "outputs": [
        {
          "output_type": "stream",
          "text": [
            "Test accuracy: 0.8721200227737427\n"
          ],
          "name": "stdout"
        }
      ]
    },
    {
      "cell_type": "markdown",
      "metadata": {
        "id": "qz-KKf3_1JVQ",
        "colab_type": "text"
      },
      "source": [
        "4. GRU"
      ]
    },
    {
      "cell_type": "code",
      "metadata": {
        "id": "mENhUGr11IHT",
        "colab_type": "code",
        "outputId": "90c039db-799b-4a17-d197-848b68ecbd84",
        "colab": {
          "base_uri": "https://localhost:8080/",
          "height": 283
        }
      },
      "source": [
        "model=Sequential()\n",
        "model.add(Embedding(vocabulary_size, embedding_size, input_length=max_words))\n",
        "model.add(GRU(100))\n",
        "model.add(Dense(1, activation='sigmoid'))\n",
        "\n",
        "model.compile(loss='binary_crossentropy', \n",
        "             optimizer='adam', \n",
        "             metrics=['accuracy'])\n",
        "\n",
        "print(model.summary())"
      ],
      "execution_count": 15,
      "outputs": [
        {
          "output_type": "stream",
          "text": [
            "Model: \"sequential_3\"\n",
            "_________________________________________________________________\n",
            "Layer (type)                 Output Shape              Param #   \n",
            "=================================================================\n",
            "embedding_3 (Embedding)      (None, 500, 32)           160000    \n",
            "_________________________________________________________________\n",
            "gru (GRU)                    (None, 100)               40200     \n",
            "_________________________________________________________________\n",
            "dense_3 (Dense)              (None, 1)                 101       \n",
            "=================================================================\n",
            "Total params: 200,301\n",
            "Trainable params: 200,301\n",
            "Non-trainable params: 0\n",
            "_________________________________________________________________\n",
            "None\n"
          ],
          "name": "stdout"
        }
      ]
    },
    {
      "cell_type": "code",
      "metadata": {
        "id": "3ZrN69Vf13u8",
        "colab_type": "code",
        "outputId": "a8b2bb71-1961-4600-d12a-078914af4bae",
        "colab": {
          "base_uri": "https://localhost:8080/",
          "height": 354
        }
      },
      "source": [
        "%%time\n",
        "model.fit(X_train2, y_train2, validation_data=(X_valid, y_valid), batch_size=batch_size, epochs=num_epochs)"
      ],
      "execution_count": 16,
      "outputs": [
        {
          "output_type": "stream",
          "text": [
            "Epoch 1/8\n",
            "97/97 [==============================] - 5s 49ms/step - loss: 0.6688 - accuracy: 0.6042 - val_loss: 0.6206 - val_accuracy: 0.6680\n",
            "Epoch 2/8\n",
            "97/97 [==============================] - 5s 48ms/step - loss: 0.4518 - accuracy: 0.7935 - val_loss: 0.2914 - val_accuracy: 0.8555\n",
            "Epoch 3/8\n",
            "97/97 [==============================] - 5s 47ms/step - loss: 0.2840 - accuracy: 0.8837 - val_loss: 0.3204 - val_accuracy: 0.8789\n",
            "Epoch 4/8\n",
            "97/97 [==============================] - 4s 46ms/step - loss: 0.2403 - accuracy: 0.9058 - val_loss: 0.2714 - val_accuracy: 0.8906\n",
            "Epoch 5/8\n",
            "97/97 [==============================] - 4s 45ms/step - loss: 0.2188 - accuracy: 0.9160 - val_loss: 0.2478 - val_accuracy: 0.9062\n",
            "Epoch 6/8\n",
            "97/97 [==============================] - 4s 46ms/step - loss: 0.2034 - accuracy: 0.9220 - val_loss: 0.2661 - val_accuracy: 0.8906\n",
            "Epoch 7/8\n",
            "97/97 [==============================] - 4s 45ms/step - loss: 0.1842 - accuracy: 0.9313 - val_loss: 0.2381 - val_accuracy: 0.9141\n",
            "Epoch 8/8\n",
            "97/97 [==============================] - 4s 46ms/step - loss: 0.1807 - accuracy: 0.9324 - val_loss: 0.2542 - val_accuracy: 0.9180\n",
            "CPU times: user 25.8 s, sys: 1.61 s, total: 27.4 s\n",
            "Wall time: 37.9 s\n"
          ],
          "name": "stdout"
        },
        {
          "output_type": "execute_result",
          "data": {
            "text/plain": [
              "<tensorflow.python.keras.callbacks.History at 0x7f9fda89f748>"
            ]
          },
          "metadata": {
            "tags": []
          },
          "execution_count": 16
        }
      ]
    },
    {
      "cell_type": "code",
      "metadata": {
        "id": "4SwG1PBm15bB",
        "colab_type": "code",
        "outputId": "811ac3f0-79bf-4a69-813e-9804426fb465",
        "colab": {
          "base_uri": "https://localhost:8080/",
          "height": 34
        }
      },
      "source": [
        "scores = model.evaluate(X_test, y_test, verbose=0)\n",
        "print('Test accuracy:', scores[1])"
      ],
      "execution_count": 17,
      "outputs": [
        {
          "output_type": "stream",
          "text": [
            "Test accuracy: 0.8664399981498718\n"
          ],
          "name": "stdout"
        }
      ]
    },
    {
      "cell_type": "markdown",
      "metadata": {
        "id": "pBle-B6g2fBF",
        "colab_type": "text"
      },
      "source": [
        "5. Bidirectional-LSTM"
      ]
    },
    {
      "cell_type": "code",
      "metadata": {
        "id": "ckrAbnN_2FJs",
        "colab_type": "code",
        "outputId": "3dda553e-6425-41cf-b0ac-e0bf09267de8",
        "colab": {
          "base_uri": "https://localhost:8080/",
          "height": 283
        }
      },
      "source": [
        "model=Sequential()\n",
        "model.add(Embedding(vocabulary_size, embedding_size, input_length=max_words))\n",
        "model.add(Bidirectional(LSTM(100)))\n",
        "model.add(Dense(1, activation='sigmoid'))\n",
        "\n",
        "model.compile(loss='binary_crossentropy', \n",
        "             optimizer='adam', \n",
        "             metrics=['accuracy'])\n",
        "\n",
        "print(model.summary())"
      ],
      "execution_count": 18,
      "outputs": [
        {
          "output_type": "stream",
          "text": [
            "Model: \"sequential_4\"\n",
            "_________________________________________________________________\n",
            "Layer (type)                 Output Shape              Param #   \n",
            "=================================================================\n",
            "embedding_4 (Embedding)      (None, 500, 32)           160000    \n",
            "_________________________________________________________________\n",
            "bidirectional (Bidirectional (None, 200)               106400    \n",
            "_________________________________________________________________\n",
            "dense_4 (Dense)              (None, 1)                 201       \n",
            "=================================================================\n",
            "Total params: 266,601\n",
            "Trainable params: 266,601\n",
            "Non-trainable params: 0\n",
            "_________________________________________________________________\n",
            "None\n"
          ],
          "name": "stdout"
        }
      ]
    },
    {
      "cell_type": "code",
      "metadata": {
        "id": "Ft0A6RJv2mu7",
        "colab_type": "code",
        "outputId": "f8a9bfbd-1e13-4c7a-884e-40bd1d97a248",
        "colab": {
          "base_uri": "https://localhost:8080/",
          "height": 354
        }
      },
      "source": [
        "%%time\n",
        "model.fit(X_train2, y_train2, validation_data=(X_valid, y_valid), batch_size=batch_size, epochs=num_epochs)"
      ],
      "execution_count": 19,
      "outputs": [
        {
          "output_type": "stream",
          "text": [
            "Epoch 1/8\n",
            "97/97 [==============================] - 9s 95ms/step - loss: 0.6020 - accuracy: 0.6933 - val_loss: 0.3538 - val_accuracy: 0.8398\n",
            "Epoch 2/8\n",
            "97/97 [==============================] - 9s 91ms/step - loss: 0.3732 - accuracy: 0.8412 - val_loss: 0.2953 - val_accuracy: 0.8984\n",
            "Epoch 3/8\n",
            "97/97 [==============================] - 9s 91ms/step - loss: 0.2669 - accuracy: 0.8943 - val_loss: 0.2351 - val_accuracy: 0.9219\n",
            "Epoch 4/8\n",
            "97/97 [==============================] - 9s 91ms/step - loss: 0.2294 - accuracy: 0.9116 - val_loss: 0.2952 - val_accuracy: 0.8672\n",
            "Epoch 5/8\n",
            "97/97 [==============================] - 9s 90ms/step - loss: 0.2023 - accuracy: 0.9246 - val_loss: 0.2399 - val_accuracy: 0.9023\n",
            "Epoch 6/8\n",
            "97/97 [==============================] - 9s 90ms/step - loss: 0.1815 - accuracy: 0.9332 - val_loss: 0.2411 - val_accuracy: 0.9102\n",
            "Epoch 7/8\n",
            "97/97 [==============================] - 9s 91ms/step - loss: 0.1645 - accuracy: 0.9417 - val_loss: 0.2824 - val_accuracy: 0.8984\n",
            "Epoch 8/8\n",
            "97/97 [==============================] - 9s 91ms/step - loss: 0.1566 - accuracy: 0.9444 - val_loss: 0.2479 - val_accuracy: 0.8945\n",
            "CPU times: user 40 s, sys: 3.35 s, total: 43.4 s\n",
            "Wall time: 1min 13s\n"
          ],
          "name": "stdout"
        },
        {
          "output_type": "execute_result",
          "data": {
            "text/plain": [
              "<tensorflow.python.keras.callbacks.History at 0x7f9fda0d8550>"
            ]
          },
          "metadata": {
            "tags": []
          },
          "execution_count": 19
        }
      ]
    },
    {
      "cell_type": "code",
      "metadata": {
        "id": "MOTSI3WM2phB",
        "colab_type": "code",
        "outputId": "13e05cb6-eb31-4cb1-979c-fe7ba28b12f1",
        "colab": {
          "base_uri": "https://localhost:8080/",
          "height": 34
        }
      },
      "source": [
        "scores = model.evaluate(X_test, y_test, verbose=0)\n",
        "print('Test accuracy:', scores[1])"
      ],
      "execution_count": 20,
      "outputs": [
        {
          "output_type": "stream",
          "text": [
            "Test accuracy: 0.8705199956893921\n"
          ],
          "name": "stdout"
        }
      ]
    }
  ]
}